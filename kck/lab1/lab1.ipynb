{
 "cells": [
  {
   "cell_type": "code",
   "execution_count": 5,
   "metadata": {
    "collapsed": true
   },
   "outputs": [],
   "source": [
    "import matplotlib.pyplot as plt\n",
    "import pandas as pd\n",
    "import numpy as np\n",
    "\n",
    "%matplotlib inline\n"
   ]
  },
  {
   "cell_type": "code",
   "execution_count": 6,
   "outputs": [],
   "source": [
    "import matplotlib as mpl\n",
    "\n",
    "mpl.rcParams['figure.figsize'] = (13,6)"
   ],
   "metadata": {
    "collapsed": false,
    "pycharm": {
     "name": "#%%\n"
    }
   }
  },
  {
   "cell_type": "code",
   "execution_count": 13,
   "outputs": [
    {
     "name": "stdout",
     "output_type": "stream",
     "text": [
      "     generation  effort  run-52   run-9  run-35   run-0  run-12   run-8  \\\n",
      "0             0    2500  0.6271  0.6662  0.6267  0.5834  0.7036  0.5881   \n",
      "1             1    5000  0.6271  0.6662  0.7325  0.7086  0.7036  0.6676   \n",
      "2             2    7500  0.6555  0.6169  0.6289  0.6857  0.6891  0.5666   \n",
      "3             3   10000  0.6555  0.6770  0.5734  0.7306  0.6854  0.6113   \n",
      "4             4   12500  0.6755  0.6191  0.6777  0.7228  0.6861  0.6356   \n",
      "..          ...     ...     ...     ...     ...     ...     ...     ...   \n",
      "195         195  490000  0.9701  0.9939  0.9455  0.9586  0.9758  0.9553   \n",
      "196         196  492500  0.9645  0.9939  0.9507  0.9625  0.9758  0.9404   \n",
      "197         197  495000  0.9754  0.9939  0.9373  0.9578  0.9828  0.8873   \n",
      "198         198  497500  0.9645  0.9939  0.8564  0.9491  0.9770  0.8873   \n",
      "199         199  500000  0.9813  0.9939  0.9475  0.9677  0.9734  0.8393   \n",
      "\n",
      "     run-20  run-22  ...  run-50   run-1  run-10   run-7  run-40   run-4  \\\n",
      "0    0.7135  0.6781  ...  0.5915  0.5327  0.6137  0.6373  0.6258  0.6815   \n",
      "1    0.7135  0.6729  ...  0.6552  0.5434  0.6445  0.6498  0.5543  0.6968   \n",
      "2    0.6782  0.7139  ...  0.6813  0.6332  0.6584  0.6191  0.6253  0.6968   \n",
      "3    0.6782  0.6557  ...  0.6592  0.6268  0.6974  0.6333  0.5933  0.6815   \n",
      "4    0.6363  0.7507  ...  0.6681  0.6254  0.6974  0.7186  0.6025  0.6393   \n",
      "..      ...     ...  ...     ...     ...     ...     ...     ...     ...   \n",
      "195  0.9784  0.9939  ...  0.8311  0.9955  0.8010  0.9820  0.9817  0.9939   \n",
      "196  0.9813  0.9939  ...  0.8484  0.9955  0.8130  0.9616  0.9803  0.9939   \n",
      "197  0.9712  0.9939  ...  0.7954  0.9955  0.7962  0.9616  0.9697  0.9939   \n",
      "198  0.9715  0.9939  ...  0.8407  0.9955  0.8080  0.9720  0.9795  0.9939   \n",
      "199  0.9706  0.9939  ...  0.8069  0.9929  0.8130  0.9562  0.9880  0.9939   \n",
      "\n",
      "     run-39   run-5  run-24  run-23  \n",
      "0    0.6795  0.6285  0.6519  0.6611  \n",
      "1    0.6795  0.6878  0.6923  0.6914  \n",
      "2    0.6885  0.7213  0.6377  0.5928  \n",
      "3    0.6026  0.7539  0.6908  0.6187  \n",
      "4    0.6812  0.7539  0.6941  0.6187  \n",
      "..      ...     ...     ...     ...  \n",
      "195  0.9817  0.9939  0.9939  0.9879  \n",
      "196  0.9911  0.9939  0.9939  0.9939  \n",
      "197  0.9667  0.9939  0.9939  0.9939  \n",
      "198  0.9910  0.9939  0.9939  0.9912  \n",
      "199  0.9793  0.9939  0.9939  0.9939  \n",
      "\n",
      "[200 rows x 34 columns]\n",
      "0      0.6271\n",
      "1      0.6271\n",
      "2      0.6555\n",
      "3      0.6555\n",
      "4      0.6755\n",
      "        ...  \n",
      "195    0.9701\n",
      "196    0.9645\n",
      "197    0.9754\n",
      "198    0.9645\n",
      "199    0.9813\n",
      "Name: run-52, Length: 200, dtype: float64\n"
     ]
    }
   ],
   "source": [
    "# Load data\n",
    "data = (\n",
    "    pd.read_csv('pliki/cel-rs.csv'),\n",
    "    pd.read_csv('pliki/cel.csv'),\n",
    "    pd.read_csv('pliki/rsel.csv'),\n",
    "    pd.read_csv('pliki/2cel.csv'),\n",
    "    pd.read_csv('pliki/2cel-rs.csv')\n",
    ")\n",
    "print(data[0])\n",
    "print(data[0]['run-52'])"
   ],
   "metadata": {
    "collapsed": false,
    "pycharm": {
     "name": "#%%\n"
    }
   }
  },
  {
   "cell_type": "code",
   "execution_count": 16,
   "outputs": [
    {
     "ename": "ModuleNotFoundError",
     "evalue": "No module named 'pandas.tools'",
     "output_type": "error",
     "traceback": [
      "\u001B[0;31m---------------------------------------------------------------------------\u001B[0m",
      "\u001B[0;31mModuleNotFoundError\u001B[0m                       Traceback (most recent call last)",
      "\u001B[0;32m<ipython-input-16-2da4c00a4c2e>\u001B[0m in \u001B[0;36m<module>\u001B[0;34m\u001B[0m\n\u001B[0;32m----> 1\u001B[0;31m \u001B[0;32mfrom\u001B[0m \u001B[0mpandas\u001B[0m\u001B[0;34m.\u001B[0m\u001B[0mtools\u001B[0m\u001B[0;34m.\u001B[0m\u001B[0mplotting\u001B[0m \u001B[0;32mimport\u001B[0m \u001B[0mandrews_curves\u001B[0m\u001B[0;34m\u001B[0m\u001B[0;34m\u001B[0m\u001B[0m\n\u001B[0m\u001B[1;32m      2\u001B[0m \u001B[0;34m\u001B[0m\u001B[0m\n\u001B[1;32m      3\u001B[0m \u001B[0mandrews_curves\u001B[0m\u001B[0;34m(\u001B[0m\u001B[0mdata\u001B[0m\u001B[0;34m[\u001B[0m\u001B[0;36m0\u001B[0m\u001B[0;34m]\u001B[0m\u001B[0;34m,\u001B[0m \u001B[0;34m'Name'\u001B[0m\u001B[0;34m)\u001B[0m\u001B[0;34m\u001B[0m\u001B[0;34m\u001B[0m\u001B[0m\n\u001B[1;32m      4\u001B[0m \u001B[0;34m\u001B[0m\u001B[0m\n\u001B[1;32m      5\u001B[0m \u001B[0;31m# Series\u001B[0m\u001B[0;34m\u001B[0m\u001B[0;34m\u001B[0m\u001B[0;34m\u001B[0m\u001B[0m\n",
      "\u001B[0;31mModuleNotFoundError\u001B[0m: No module named 'pandas.tools'"
     ]
    }
   ],
   "source": [
    "# Series\n",
    "ts = pd.Series(data[0]['run-52'], index=data[0]['generation'])\n",
    "#suma skumulowana\n",
    "ts = ts.cumsum()\n",
    "ts.plot()"
   ],
   "metadata": {
    "collapsed": false,
    "pycharm": {
     "name": "#%%\n"
    }
   }
  }
 ],
 "metadata": {
  "kernelspec": {
   "name": "pycharm-8a6a632c",
   "language": "python",
   "display_name": "PyCharm (inf5)"
  },
  "language_info": {
   "codemirror_mode": {
    "name": "ipython",
    "version": 2
   },
   "file_extension": ".py",
   "mimetype": "text/x-python",
   "name": "python",
   "nbconvert_exporter": "python",
   "pygments_lexer": "ipython2",
   "version": "2.7.6"
  }
 },
 "nbformat": 4,
 "nbformat_minor": 0
}